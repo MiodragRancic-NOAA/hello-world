{
  "nbformat": 4,
  "nbformat_minor": 0,
  "metadata": {
    "colab": {
      "provenance": [],
      "authorship_tag": "ABX9TyMNaN+pXZ2XsI7dvnXDAXrv",
      "include_colab_link": true
    },
    "kernelspec": {
      "name": "python3",
      "display_name": "Python 3"
    },
    "language_info": {
      "name": "python"
    }
  },
  "cells": [
    {
      "cell_type": "markdown",
      "metadata": {
        "id": "view-in-github",
        "colab_type": "text"
      },
      "source": [
        "<a href=\"https://colab.research.google.com/github/MiodragRancic-NOAA/hello-world/blob/master/Markdown_ex.ipynb\" target=\"_parent\"><img src=\"https://colab.research.google.com/assets/colab-badge.svg\" alt=\"Open In Colab\"/></a>"
      ]
    },
    {
      "cell_type": "code",
      "execution_count": null,
      "metadata": {
        "id": "JlJ3_uKW81Bv"
      },
      "outputs": [],
      "source": []
    },
    {
      "cell_type": "markdown",
      "source": [
        "This is **bold**.\n",
        "This is **italic**.\n",
        "This is ~strikethrough~."
      ],
      "metadata": {
        "id": "wLVY66Xz9S-i"
      }
    },
    {
      "cell_type": "markdown",
      "source": [],
      "metadata": {
        "id": "2pYL_O8Z9jPH"
      }
    },
    {
      "cell_type": "markdown",
      "source": [
        "$\\sqrt{3x-1}+(1+x)^2$\n"
      ],
      "metadata": {
        "id": "YwZXa4Rj9nuW"
      }
    },
    {
      "cell_type": "markdown",
      "source": [
        "$e^x=\\sum_{i=0}^\\infty \n",
        "\\frac{1}{i!}x^i$"
      ],
      "metadata": {
        "id": "mFl0lBqs9RMN"
      }
    },
    {
      "cell_type": "markdown",
      "source": [],
      "metadata": {
        "id": "naxcl3oQ-W0k"
      }
    },
    {
      "cell_type": "markdown",
      "source": [
        "Constraints are\n",
        "\n",
        "- $3x_1 + 6x_2 + x_3 =< 28$\n",
        "- $7x_1 + 3x_2 + 2x_3 =< 37$\n",
        "- $4x_1 + 3x_2 + 2x_3 =< 19$\n",
        "- $x_1, x_2,x_3 >= 0$\n",
        "\n",
        "The trial vector is calculated as follows:\n",
        "\n",
        "- $u_i(t) = x_i)t) + \\beta(\\hat{x}(t) = x_i(t)) + \\beta \\sum_{k = 1}^{n_v}\n",
        "(x_{i1,k}(t) -x_{i2,k}(t))$\n",
        "\n",
        ">$A_{m,n} =\n",
        "\\begin{pmatrix}\n",
        "a_{1,1} & a_{1,2} & \\cdots & a_{1,n} \\\\\n",
        "a_{2,1} & a_{2,2} & \\cdots & a_{2,n} \\\\\n",
        "\\vdots & \\vdots & \\ddots & \\vdots \\\\\n",
        "a_{m,1} & a_{m,2} & \\cdots & a_{m,n} \\\\\n",
        "\\end{pmatrix}$\n"
      ],
      "metadata": {
        "id": "jzJpoCCZ0wcI"
      }
    }
  ]
}